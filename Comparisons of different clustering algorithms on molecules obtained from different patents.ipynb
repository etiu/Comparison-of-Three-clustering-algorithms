{
 "cells": [
  {
   "cell_type": "markdown",
   "id": "b5a91193",
   "metadata": {},
   "source": [
    "In this notebook, I will be playing around with clustering molecules from different patents and how different the clustering looks like depending on the type of algorithm I use. I will be using Agglomerative hierarchical clustering, K Means Clustering, and DBSCAN clustering."
   ]
  },
  {
   "cell_type": "markdown",
   "id": "97abcdea",
   "metadata": {},
   "source": [
    "This was inspired by the work done by Greg Landrum in KNIME. I thought to replicate his work by using code as a good practice in coding!!!"
   ]
  },
  {
   "cell_type": "code",
   "execution_count": null,
   "id": "24d94a5d",
   "metadata": {},
   "outputs": [],
   "source": []
  },
  {
   "cell_type": "code",
   "execution_count": 1,
   "id": "f07833b1",
   "metadata": {},
   "outputs": [],
   "source": [
    "import pandas as pd\n",
    "import matplotlib.pyplot as plt\n",
    "import rdkit\n",
    "import numpy as np\n",
    "from rdkit import Chem\n",
    "from rdkit.Chem import PandasTools\n",
    "from rdkit.Chem import rdMolDescriptors, AllChem\n",
    "from rdkit.DataManip.Metric import GetTanimotoDistMat\n",
    "from rdkit.Chem import DataStructs\n",
    "from sklearn import manifold\n",
    "import seaborn as sns"
   ]
  },
  {
   "cell_type": "markdown",
   "id": "831dbae4",
   "metadata": {},
   "source": [
    "First I will import the txt file available from KNIME."
   ]
  },
  {
   "cell_type": "code",
   "execution_count": 2,
   "id": "ec1417cb",
   "metadata": {},
   "outputs": [],
   "source": [
    "df = pd.read_csv('CHEMBL3833.txt', sep = '\\t')"
   ]
  },
  {
   "cell_type": "code",
   "execution_count": 3,
   "id": "9c1139ac",
   "metadata": {},
   "outputs": [
    {
     "data": {
      "text/html": [
       "<div>\n",
       "<style scoped>\n",
       "    .dataframe tbody tr th:only-of-type {\n",
       "        vertical-align: middle;\n",
       "    }\n",
       "\n",
       "    .dataframe tbody tr th {\n",
       "        vertical-align: top;\n",
       "    }\n",
       "\n",
       "    .dataframe thead th {\n",
       "        text-align: right;\n",
       "    }\n",
       "</style>\n",
       "<table border=\"1\" class=\"dataframe\">\n",
       "  <thead>\n",
       "    <tr style=\"text-align: right;\">\n",
       "      <th></th>\n",
       "      <th>canonical_smiles</th>\n",
       "      <th>compound_chembl_id</th>\n",
       "      <th>standard_relation</th>\n",
       "      <th>standard_value</th>\n",
       "      <th>publication_year</th>\n",
       "      <th>document_chembl_id</th>\n",
       "    </tr>\n",
       "  </thead>\n",
       "  <tbody>\n",
       "    <tr>\n",
       "      <th>0</th>\n",
       "      <td>O=C(Nc1ccc([C@H]2CNCCO2)cc1)c1cc(-c2ccccc2)[nH]n1</td>\n",
       "      <td>CHEMBL3663679</td>\n",
       "      <td>=</td>\n",
       "      <td>4.3</td>\n",
       "      <td>2015</td>\n",
       "      <td>CHEMBL3638918</td>\n",
       "    </tr>\n",
       "    <tr>\n",
       "      <th>1</th>\n",
       "      <td>O=C(Nc1ccc([C@@H]2CNCCO2)cc1F)c1n[nH]c2cc(F)ccc12</td>\n",
       "      <td>CHEMBL3672946</td>\n",
       "      <td>=</td>\n",
       "      <td>5.1</td>\n",
       "      <td>2015</td>\n",
       "      <td>CHEMBL3638970</td>\n",
       "    </tr>\n",
       "    <tr>\n",
       "      <th>2</th>\n",
       "      <td>O=C(Nc1ccc([C@H]2CNCCO2)cc1F)c1n[nH]c2cc(F)ccc12</td>\n",
       "      <td>CHEMBL3672947</td>\n",
       "      <td>=</td>\n",
       "      <td>0.9</td>\n",
       "      <td>2015</td>\n",
       "      <td>CHEMBL3638970</td>\n",
       "    </tr>\n",
       "    <tr>\n",
       "      <th>3</th>\n",
       "      <td>N#Cc1cccc(NC(=O)Nc2ccc([C@@H]3CNCCO3)cc2F)c1</td>\n",
       "      <td>CHEMBL3672948</td>\n",
       "      <td>=</td>\n",
       "      <td>1.5</td>\n",
       "      <td>2015</td>\n",
       "      <td>CHEMBL3638970</td>\n",
       "    </tr>\n",
       "    <tr>\n",
       "      <th>4</th>\n",
       "      <td>N#Cc1cccc(NC(=O)Nc2ccc([C@H]3CNCCO3)cc2F)c1</td>\n",
       "      <td>CHEMBL3672949</td>\n",
       "      <td>=</td>\n",
       "      <td>2.8</td>\n",
       "      <td>2015</td>\n",
       "      <td>CHEMBL3638970</td>\n",
       "    </tr>\n",
       "  </tbody>\n",
       "</table>\n",
       "</div>"
      ],
      "text/plain": [
       "                                    canonical_smiles compound_chembl_id  \\\n",
       "0  O=C(Nc1ccc([C@H]2CNCCO2)cc1)c1cc(-c2ccccc2)[nH]n1      CHEMBL3663679   \n",
       "1  O=C(Nc1ccc([C@@H]2CNCCO2)cc1F)c1n[nH]c2cc(F)ccc12      CHEMBL3672946   \n",
       "2   O=C(Nc1ccc([C@H]2CNCCO2)cc1F)c1n[nH]c2cc(F)ccc12      CHEMBL3672947   \n",
       "3       N#Cc1cccc(NC(=O)Nc2ccc([C@@H]3CNCCO3)cc2F)c1      CHEMBL3672948   \n",
       "4        N#Cc1cccc(NC(=O)Nc2ccc([C@H]3CNCCO3)cc2F)c1      CHEMBL3672949   \n",
       "\n",
       "  standard_relation  standard_value  publication_year document_chembl_id  \n",
       "0                 =             4.3              2015      CHEMBL3638918  \n",
       "1                 =             5.1              2015      CHEMBL3638970  \n",
       "2                 =             0.9              2015      CHEMBL3638970  \n",
       "3                 =             1.5              2015      CHEMBL3638970  \n",
       "4                 =             2.8              2015      CHEMBL3638970  "
      ]
     },
     "execution_count": 3,
     "metadata": {},
     "output_type": "execute_result"
    }
   ],
   "source": [
    "df.head() #have a quick look at the data set."
   ]
  },
  {
   "cell_type": "markdown",
   "id": "e68a05a3",
   "metadata": {},
   "source": [
    "The data set contains a list of molecules with their chembl ids, and the patents (with year) where they came from. "
   ]
  },
  {
   "cell_type": "code",
   "execution_count": 4,
   "id": "61621b57",
   "metadata": {},
   "outputs": [
    {
     "data": {
      "text/plain": [
       "(690, 6)"
      ]
     },
     "execution_count": 4,
     "metadata": {},
     "output_type": "execute_result"
    }
   ],
   "source": [
    "df.shape #We have 690 rows and 6 columns"
   ]
  },
  {
   "cell_type": "markdown",
   "id": "05611b2d",
   "metadata": {},
   "source": [
    "Grouping by Document_chembl_id, then counting the number of times this patent appears in the data set and then sorting it in descending order, I could easily see how many compounds fall under each patent. "
   ]
  },
  {
   "cell_type": "code",
   "execution_count": 5,
   "id": "b5d272b3",
   "metadata": {},
   "outputs": [
    {
     "data": {
      "text/plain": [
       "document_chembl_id\n",
       "CHEMBL3886960    320\n",
       "CHEMBL3638970    138\n",
       "CHEMBL3638821     74\n",
       "CHEMBL3886345     55\n",
       "CHEMBL3638918     54\n",
       "CHEMBL3886861     36\n",
       "CHEMBL3638700     13\n",
       "Name: document_chembl_id, dtype: int64"
      ]
     },
     "execution_count": 5,
     "metadata": {},
     "output_type": "execute_result"
    }
   ],
   "source": [
    "df.groupby(['document_chembl_id'])['document_chembl_id'].count().sort_values(ascending = False)"
   ]
  },
  {
   "cell_type": "markdown",
   "id": "5f776c4a",
   "metadata": {},
   "source": [
    "Based on this, I will exclude the patents with less than 20 compounds. I will consider only ones which have 20 compounds and above."
   ]
  },
  {
   "cell_type": "code",
   "execution_count": 6,
   "id": "3f077828",
   "metadata": {},
   "outputs": [],
   "source": [
    "df1 = df.groupby('document_chembl_id').filter(lambda x : len(x)>20) #drop all rows whose count is less than 20"
   ]
  },
  {
   "cell_type": "code",
   "execution_count": 7,
   "id": "58504b18",
   "metadata": {},
   "outputs": [
    {
     "data": {
      "text/plain": [
       "(677, 6)"
      ]
     },
     "execution_count": 7,
     "metadata": {},
     "output_type": "execute_result"
    }
   ],
   "source": [
    "df1.shape #dropping 13 rows from CHEMBL3638700, I am left with 677 rows."
   ]
  },
  {
   "cell_type": "markdown",
   "id": "9953aa54",
   "metadata": {},
   "source": [
    "Now, I will randomly pick 15 compounds from each patent. I do this by using the .sample() function. I will then assign this to a new dataframe called df2."
   ]
  },
  {
   "cell_type": "code",
   "execution_count": 8,
   "id": "beb1fb61",
   "metadata": {},
   "outputs": [],
   "source": [
    "df2 = df1.groupby(\"document_chembl_id\").sample(n=15, random_state =42)"
   ]
  },
  {
   "cell_type": "code",
   "execution_count": 9,
   "id": "6b919740",
   "metadata": {},
   "outputs": [
    {
     "data": {
      "text/plain": [
       "(90, 6)"
      ]
     },
     "execution_count": 9,
     "metadata": {},
     "output_type": "execute_result"
    }
   ],
   "source": [
    "df2.shape #confirming the number of rows is correct 15*6 = 90."
   ]
  },
  {
   "cell_type": "code",
   "execution_count": 10,
   "id": "e07ab273",
   "metadata": {},
   "outputs": [
    {
     "data": {
      "text/html": [
       "<div>\n",
       "<style scoped>\n",
       "    .dataframe tbody tr th:only-of-type {\n",
       "        vertical-align: middle;\n",
       "    }\n",
       "\n",
       "    .dataframe tbody tr th {\n",
       "        vertical-align: top;\n",
       "    }\n",
       "\n",
       "    .dataframe thead th {\n",
       "        text-align: right;\n",
       "    }\n",
       "</style>\n",
       "<table border=\"1\" class=\"dataframe\">\n",
       "  <thead>\n",
       "    <tr style=\"text-align: right;\">\n",
       "      <th></th>\n",
       "      <th>canonical_smiles</th>\n",
       "      <th>compound_chembl_id</th>\n",
       "      <th>standard_relation</th>\n",
       "      <th>standard_value</th>\n",
       "      <th>publication_year</th>\n",
       "      <th>document_chembl_id</th>\n",
       "    </tr>\n",
       "  </thead>\n",
       "  <tbody>\n",
       "    <tr>\n",
       "      <th>143</th>\n",
       "      <td>NC1=N[C@@H](CCc2ccc(Nc3cccc4cccc(Cl)c34)cc2)CO1</td>\n",
       "      <td>CHEMBL3656478</td>\n",
       "      <td>=</td>\n",
       "      <td>3.3</td>\n",
       "      <td>2014</td>\n",
       "      <td>CHEMBL3638821</td>\n",
       "    </tr>\n",
       "    <tr>\n",
       "      <th>202</th>\n",
       "      <td>NC1=N[C@@H](CCc2ccc(NC(c3cccc(F)c3)C(F)(F)F)cc...</td>\n",
       "      <td>CHEMBL3660701</td>\n",
       "      <td>=</td>\n",
       "      <td>6.4</td>\n",
       "      <td>2014</td>\n",
       "      <td>CHEMBL3638821</td>\n",
       "    </tr>\n",
       "    <tr>\n",
       "      <th>157</th>\n",
       "      <td>NC1=N[C@@H](CCc2ccc(Nc3ncc(F)cn3)cc2)CO1</td>\n",
       "      <td>CHEMBL3656493</td>\n",
       "      <td>=</td>\n",
       "      <td>4.0</td>\n",
       "      <td>2014</td>\n",
       "      <td>CHEMBL3638821</td>\n",
       "    </tr>\n",
       "    <tr>\n",
       "      <th>139</th>\n",
       "      <td>NC1=N[C@@H](CCc2ccc(Nc3cccc4cccnc34)cc2)CO1</td>\n",
       "      <td>CHEMBL3656474</td>\n",
       "      <td>=</td>\n",
       "      <td>0.6</td>\n",
       "      <td>2014</td>\n",
       "      <td>CHEMBL3638821</td>\n",
       "    </tr>\n",
       "    <tr>\n",
       "      <th>167</th>\n",
       "      <td>COc1ccc(Nc2ccc(CC[C@H]3COC(N)=N3)cc2)nc1</td>\n",
       "      <td>CHEMBL3656503</td>\n",
       "      <td>=</td>\n",
       "      <td>8.3</td>\n",
       "      <td>2014</td>\n",
       "      <td>CHEMBL3638821</td>\n",
       "    </tr>\n",
       "  </tbody>\n",
       "</table>\n",
       "</div>"
      ],
      "text/plain": [
       "                                      canonical_smiles compound_chembl_id  \\\n",
       "143    NC1=N[C@@H](CCc2ccc(Nc3cccc4cccc(Cl)c34)cc2)CO1      CHEMBL3656478   \n",
       "202  NC1=N[C@@H](CCc2ccc(NC(c3cccc(F)c3)C(F)(F)F)cc...      CHEMBL3660701   \n",
       "157           NC1=N[C@@H](CCc2ccc(Nc3ncc(F)cn3)cc2)CO1      CHEMBL3656493   \n",
       "139        NC1=N[C@@H](CCc2ccc(Nc3cccc4cccnc34)cc2)CO1      CHEMBL3656474   \n",
       "167           COc1ccc(Nc2ccc(CC[C@H]3COC(N)=N3)cc2)nc1      CHEMBL3656503   \n",
       "\n",
       "    standard_relation  standard_value  publication_year document_chembl_id  \n",
       "143                 =             3.3              2014      CHEMBL3638821  \n",
       "202                 =             6.4              2014      CHEMBL3638821  \n",
       "157                 =             4.0              2014      CHEMBL3638821  \n",
       "139                 =             0.6              2014      CHEMBL3638821  \n",
       "167                 =             8.3              2014      CHEMBL3638821  "
      ]
     },
     "execution_count": 10,
     "metadata": {},
     "output_type": "execute_result"
    }
   ],
   "source": [
    "df2.head()"
   ]
  },
  {
   "cell_type": "markdown",
   "id": "77317ae2",
   "metadata": {},
   "source": [
    "So now I will draw the molecule for each canonical smile in the dataframe. I will put this in a new column. I am using the function AddMoleculeColumnToFrame from PandasTools. I found that this is the same as using Chem.MolFromSmiles() function from RDKit. "
   ]
  },
  {
   "cell_type": "code",
   "execution_count": 11,
   "id": "4803c087",
   "metadata": {},
   "outputs": [],
   "source": [
    "PandasTools.AddMoleculeColumnToFrame(df2, smilesCol='canonical_smiles')"
   ]
  },
  {
   "cell_type": "code",
   "execution_count": 12,
   "id": "17ffb807",
   "metadata": {},
   "outputs": [
    {
     "data": {
      "text/html": [
       "<div>\n",
       "<style scoped>\n",
       "    .dataframe tbody tr th:only-of-type {\n",
       "        vertical-align: middle;\n",
       "    }\n",
       "\n",
       "    .dataframe tbody tr th {\n",
       "        vertical-align: top;\n",
       "    }\n",
       "\n",
       "    .dataframe thead th {\n",
       "        text-align: right;\n",
       "    }\n",
       "</style>\n",
       "<table border=\"1\" class=\"dataframe\">\n",
       "  <thead>\n",
       "    <tr style=\"text-align: right;\">\n",
       "      <th></th>\n",
       "      <th>canonical_smiles</th>\n",
       "      <th>compound_chembl_id</th>\n",
       "      <th>standard_relation</th>\n",
       "      <th>standard_value</th>\n",
       "      <th>publication_year</th>\n",
       "      <th>document_chembl_id</th>\n",
       "      <th>ROMol</th>\n",
       "    </tr>\n",
       "  </thead>\n",
       "  <tbody>\n",
       "    <tr>\n",
       "      <th>143</th>\n",
       "      <td>NC1=N[C@@H](CCc2ccc(Nc3cccc4cccc(Cl)c34)cc2)CO1</td>\n",
       "      <td>CHEMBL3656478</td>\n",
       "      <td>=</td>\n",
       "      <td>3.3</td>\n",
       "      <td>2014</td>\n",
       "      <td>CHEMBL3638821</td>\n",
       "      <td>&lt;rdkit.Chem.rdchem.Mol object at 0x15b3b4e40&gt;</td>\n",
       "    </tr>\n",
       "  </tbody>\n",
       "</table>\n",
       "</div>"
      ],
      "text/plain": [
       "                                    canonical_smiles compound_chembl_id  \\\n",
       "143  NC1=N[C@@H](CCc2ccc(Nc3cccc4cccc(Cl)c34)cc2)CO1      CHEMBL3656478   \n",
       "\n",
       "    standard_relation  standard_value  publication_year document_chembl_id  \\\n",
       "143                 =             3.3              2014      CHEMBL3638821   \n",
       "\n",
       "                                             ROMol  \n",
       "143  <rdkit.Chem.rdchem.Mol object at 0x15b3b4e40>  "
      ]
     },
     "execution_count": 12,
     "metadata": {},
     "output_type": "execute_result"
    }
   ],
   "source": [
    "df2.head(1)"
   ]
  },
  {
   "cell_type": "markdown",
   "id": "22a560b6",
   "metadata": {},
   "source": [
    "## Morgan Fingerprint"
   ]
  },
  {
   "cell_type": "markdown",
   "id": "ac99e3c8",
   "metadata": {},
   "source": [
    "I will now obtain the Morgan Fingerprints for each molecule in the ROMol column. I do this by using the GetMorganFingerprintAsBitVect from RDKit. I also use nBits = 2048. I got this code from https://www.youtube.com/watch?v=-oHqQBUyrQ0&t=1254s"
   ]
  },
  {
   "cell_type": "code",
   "execution_count": 13,
   "id": "daad61d5",
   "metadata": {},
   "outputs": [],
   "source": [
    "mfp = [AllChem.GetMorganFingerprintAsBitVect(i, 2, nBits = 2048) for i in df2['ROMol']]"
   ]
  },
  {
   "cell_type": "code",
   "execution_count": 14,
   "id": "cef1393e",
   "metadata": {},
   "outputs": [
    {
     "data": {
      "text/html": [
       "<div>\n",
       "<style scoped>\n",
       "    .dataframe tbody tr th:only-of-type {\n",
       "        vertical-align: middle;\n",
       "    }\n",
       "\n",
       "    .dataframe tbody tr th {\n",
       "        vertical-align: top;\n",
       "    }\n",
       "\n",
       "    .dataframe thead th {\n",
       "        text-align: right;\n",
       "    }\n",
       "</style>\n",
       "<table border=\"1\" class=\"dataframe\">\n",
       "  <thead>\n",
       "    <tr style=\"text-align: right;\">\n",
       "      <th></th>\n",
       "      <th>canonical_smiles</th>\n",
       "      <th>compound_chembl_id</th>\n",
       "      <th>standard_relation</th>\n",
       "      <th>standard_value</th>\n",
       "      <th>publication_year</th>\n",
       "      <th>document_chembl_id</th>\n",
       "      <th>ROMol</th>\n",
       "    </tr>\n",
       "  </thead>\n",
       "  <tbody>\n",
       "    <tr>\n",
       "      <th>143</th>\n",
       "      <td>NC1=N[C@@H](CCc2ccc(Nc3cccc4cccc(Cl)c34)cc2)CO1</td>\n",
       "      <td>CHEMBL3656478</td>\n",
       "      <td>=</td>\n",
       "      <td>3.3</td>\n",
       "      <td>2014</td>\n",
       "      <td>CHEMBL3638821</td>\n",
       "      <td>&lt;rdkit.Chem.rdchem.Mol object at 0x15b3b4e40&gt;</td>\n",
       "    </tr>\n",
       "  </tbody>\n",
       "</table>\n",
       "</div>"
      ],
      "text/plain": [
       "                                    canonical_smiles compound_chembl_id  \\\n",
       "143  NC1=N[C@@H](CCc2ccc(Nc3cccc4cccc(Cl)c34)cc2)CO1      CHEMBL3656478   \n",
       "\n",
       "    standard_relation  standard_value  publication_year document_chembl_id  \\\n",
       "143                 =             3.3              2014      CHEMBL3638821   \n",
       "\n",
       "                                             ROMol  \n",
       "143  <rdkit.Chem.rdchem.Mol object at 0x15b3b4e40>  "
      ]
     },
     "execution_count": 14,
     "metadata": {},
     "output_type": "execute_result"
    }
   ],
   "source": [
    "df2.head(1)"
   ]
  },
  {
   "cell_type": "markdown",
   "id": "86659ea1",
   "metadata": {},
   "source": [
    "Using the MorganFingerprint, I will now obtain the Tanimoto Similarity Distances. I do this by using the BulkTanimotoSimilarity from DataStructs. I got this code from http://rdkit.blogspot.com/2014/01/mds-i-fingerprints-2d.html"
   ]
  },
  {
   "cell_type": "code",
   "execution_count": 15,
   "id": "f287c116",
   "metadata": {},
   "outputs": [
    {
     "name": "stdout",
     "output_type": "stream",
     "text": [
      "90\n"
     ]
    }
   ],
   "source": [
    "dist_mat = []\n",
    "for i,fp in enumerate(mfp):\n",
    "    dist_mat.append(DataStructs.BulkTanimotoSimilarity(mfp[i],mfp, returnDistance =1))\n",
    "print(len(dist_mat))"
   ]
  },
  {
   "cell_type": "code",
   "execution_count": 16,
   "id": "ae348e9c",
   "metadata": {},
   "outputs": [],
   "source": [
    "#Would this code work as well? I tried this method but it gives 4005 rows instead of 90.\n",
    "#from rdkit.ML.Cluster import Butina\n",
    "#dists = []\n",
    "#nfps = len(mfp)\n",
    "#for i in range(1, nfps):\n",
    "#    sims = DataStructs.BulkTanimotoSimilarity(mfp[i], mfp[:i])\n",
    "#    dists.extend([1 - x for x in sims])\n"
   ]
  },
  {
   "cell_type": "code",
   "execution_count": 17,
   "id": "3e0da5c1",
   "metadata": {},
   "outputs": [],
   "source": [
    "df2['distance'] = dist_mat #I will now add the results as a column in my dataframe."
   ]
  },
  {
   "cell_type": "code",
   "execution_count": 18,
   "id": "ae7e5c25",
   "metadata": {},
   "outputs": [
    {
     "data": {
      "text/html": [
       "<div>\n",
       "<style scoped>\n",
       "    .dataframe tbody tr th:only-of-type {\n",
       "        vertical-align: middle;\n",
       "    }\n",
       "\n",
       "    .dataframe tbody tr th {\n",
       "        vertical-align: top;\n",
       "    }\n",
       "\n",
       "    .dataframe thead th {\n",
       "        text-align: right;\n",
       "    }\n",
       "</style>\n",
       "<table border=\"1\" class=\"dataframe\">\n",
       "  <thead>\n",
       "    <tr style=\"text-align: right;\">\n",
       "      <th></th>\n",
       "      <th>canonical_smiles</th>\n",
       "      <th>compound_chembl_id</th>\n",
       "      <th>standard_relation</th>\n",
       "      <th>standard_value</th>\n",
       "      <th>publication_year</th>\n",
       "      <th>document_chembl_id</th>\n",
       "      <th>ROMol</th>\n",
       "      <th>distance</th>\n",
       "    </tr>\n",
       "  </thead>\n",
       "  <tbody>\n",
       "    <tr>\n",
       "      <th>143</th>\n",
       "      <td>NC1=N[C@@H](CCc2ccc(Nc3cccc4cccc(Cl)c34)cc2)CO1</td>\n",
       "      <td>CHEMBL3656478</td>\n",
       "      <td>=</td>\n",
       "      <td>3.3</td>\n",
       "      <td>2014</td>\n",
       "      <td>CHEMBL3638821</td>\n",
       "      <td>&lt;rdkit.Chem.rdchem.Mol object at 0x15b3b4e40&gt;</td>\n",
       "      <td>[0.0, 0.5303030303030303, 0.45614035087719296,...</td>\n",
       "    </tr>\n",
       "    <tr>\n",
       "      <th>202</th>\n",
       "      <td>NC1=N[C@@H](CCc2ccc(NC(c3cccc(F)c3)C(F)(F)F)cc...</td>\n",
       "      <td>CHEMBL3660701</td>\n",
       "      <td>=</td>\n",
       "      <td>6.4</td>\n",
       "      <td>2014</td>\n",
       "      <td>CHEMBL3638821</td>\n",
       "      <td>&lt;rdkit.Chem.rdchem.Mol object at 0x15b3b4820&gt;</td>\n",
       "      <td>[0.5303030303030303, 0.0, 0.44999999999999996,...</td>\n",
       "    </tr>\n",
       "    <tr>\n",
       "      <th>157</th>\n",
       "      <td>NC1=N[C@@H](CCc2ccc(Nc3ncc(F)cn3)cc2)CO1</td>\n",
       "      <td>CHEMBL3656493</td>\n",
       "      <td>=</td>\n",
       "      <td>4.0</td>\n",
       "      <td>2014</td>\n",
       "      <td>CHEMBL3638821</td>\n",
       "      <td>&lt;rdkit.Chem.rdchem.Mol object at 0x15b3b4eb0&gt;</td>\n",
       "      <td>[0.45614035087719296, 0.44999999999999996, 0.0...</td>\n",
       "    </tr>\n",
       "    <tr>\n",
       "      <th>139</th>\n",
       "      <td>NC1=N[C@@H](CCc2ccc(Nc3cccc4cccnc34)cc2)CO1</td>\n",
       "      <td>CHEMBL3656474</td>\n",
       "      <td>=</td>\n",
       "      <td>0.6</td>\n",
       "      <td>2014</td>\n",
       "      <td>CHEMBL3638821</td>\n",
       "      <td>&lt;rdkit.Chem.rdchem.Mol object at 0x15b3b4cf0&gt;</td>\n",
       "      <td>[0.32727272727272727, 0.5303030303030303, 0.42...</td>\n",
       "    </tr>\n",
       "    <tr>\n",
       "      <th>167</th>\n",
       "      <td>COc1ccc(Nc2ccc(CC[C@H]3COC(N)=N3)cc2)nc1</td>\n",
       "      <td>CHEMBL3656503</td>\n",
       "      <td>=</td>\n",
       "      <td>8.3</td>\n",
       "      <td>2014</td>\n",
       "      <td>CHEMBL3638821</td>\n",
       "      <td>&lt;rdkit.Chem.rdchem.Mol object at 0x15b3b4c80&gt;</td>\n",
       "      <td>[0.5, 0.5588235294117647, 0.4107142857142857, ...</td>\n",
       "    </tr>\n",
       "  </tbody>\n",
       "</table>\n",
       "</div>"
      ],
      "text/plain": [
       "                                      canonical_smiles compound_chembl_id  \\\n",
       "143    NC1=N[C@@H](CCc2ccc(Nc3cccc4cccc(Cl)c34)cc2)CO1      CHEMBL3656478   \n",
       "202  NC1=N[C@@H](CCc2ccc(NC(c3cccc(F)c3)C(F)(F)F)cc...      CHEMBL3660701   \n",
       "157           NC1=N[C@@H](CCc2ccc(Nc3ncc(F)cn3)cc2)CO1      CHEMBL3656493   \n",
       "139        NC1=N[C@@H](CCc2ccc(Nc3cccc4cccnc34)cc2)CO1      CHEMBL3656474   \n",
       "167           COc1ccc(Nc2ccc(CC[C@H]3COC(N)=N3)cc2)nc1      CHEMBL3656503   \n",
       "\n",
       "    standard_relation  standard_value  publication_year document_chembl_id  \\\n",
       "143                 =             3.3              2014      CHEMBL3638821   \n",
       "202                 =             6.4              2014      CHEMBL3638821   \n",
       "157                 =             4.0              2014      CHEMBL3638821   \n",
       "139                 =             0.6              2014      CHEMBL3638821   \n",
       "167                 =             8.3              2014      CHEMBL3638821   \n",
       "\n",
       "                                             ROMol  \\\n",
       "143  <rdkit.Chem.rdchem.Mol object at 0x15b3b4e40>   \n",
       "202  <rdkit.Chem.rdchem.Mol object at 0x15b3b4820>   \n",
       "157  <rdkit.Chem.rdchem.Mol object at 0x15b3b4eb0>   \n",
       "139  <rdkit.Chem.rdchem.Mol object at 0x15b3b4cf0>   \n",
       "167  <rdkit.Chem.rdchem.Mol object at 0x15b3b4c80>   \n",
       "\n",
       "                                              distance  \n",
       "143  [0.0, 0.5303030303030303, 0.45614035087719296,...  \n",
       "202  [0.5303030303030303, 0.0, 0.44999999999999996,...  \n",
       "157  [0.45614035087719296, 0.44999999999999996, 0.0...  \n",
       "139  [0.32727272727272727, 0.5303030303030303, 0.42...  \n",
       "167  [0.5, 0.5588235294117647, 0.4107142857142857, ...  "
      ]
     },
     "execution_count": 18,
     "metadata": {},
     "output_type": "execute_result"
    }
   ],
   "source": [
    "df2.head(5)"
   ]
  },
  {
   "cell_type": "markdown",
   "id": "532e7116",
   "metadata": {},
   "source": [
    "Next, I based on the obtained tanimoto distances, I will perform multidimensional scaling to output two dimensions, and use these as the coordinates of each of the compounds. I am using manifold.MDS function for this. The result is an array with two columns."
   ]
  },
  {
   "cell_type": "code",
   "execution_count": 19,
   "id": "bb57c49f",
   "metadata": {},
   "outputs": [
    {
     "name": "stderr",
     "output_type": "stream",
     "text": [
      "/Users/elisha-fred/miniforge3/envs/base_env/lib/python3.9/site-packages/sklearn/manifold/_mds.py:512: UserWarning: The MDS API has changed. ``fit`` now constructs an dissimilarity matrix from data. To use a custom dissimilarity matrix, set ``dissimilarity='precomputed'``.\n",
      "  warnings.warn(\n"
     ]
    },
    {
     "data": {
      "text/plain": [
       "array([[-0.69759977, -2.32447546],\n",
       "       [ 0.24449345, -2.34656013],\n",
       "       [-0.31554779, -2.50620882],\n",
       "       [-0.69610406, -2.41443818],\n",
       "       [-0.47135255, -2.46261367],\n",
       "       [ 0.30937366, -2.43531771],\n",
       "       [-0.37492566, -2.41174174],\n",
       "       [-0.2491598 , -2.51203086],\n",
       "       [-0.19714472, -2.6244971 ],\n",
       "       [-0.10789829, -2.56469815],\n",
       "       [-0.80002087, -2.23240698],\n",
       "       [-0.53417851, -2.41401933],\n",
       "       [ 0.02720271, -2.40227274],\n",
       "       [-0.17023118, -2.2428115 ],\n",
       "       [ 0.05659716, -2.57968311],\n",
       "       [ 0.15542176,  1.03073853],\n",
       "       [ 0.23129329,  1.20407443],\n",
       "       [ 0.12037625,  0.81445442],\n",
       "       [-0.10065277,  1.29620318],\n",
       "       [-0.07173039,  0.75397535],\n",
       "       [ 0.60408795,  0.67392584],\n",
       "       [ 0.56805096,  0.8218868 ],\n",
       "       [ 0.43336569,  1.16738624],\n",
       "       [ 0.27385636,  0.808088  ],\n",
       "       [ 0.058332  ,  1.16857818],\n",
       "       [ 0.49191604,  1.00485145],\n",
       "       [-0.10039255,  1.0182799 ],\n",
       "       [ 0.6452757 ,  0.57328814],\n",
       "       [-0.01889185,  1.31873723],\n",
       "       [ 0.74899681,  0.69435051],\n",
       "       [-0.38858016,  0.93468277],\n",
       "       [ 0.14985872, -0.01872937],\n",
       "       [-0.42020334,  0.76197054],\n",
       "       [-0.50719597,  0.5910559 ],\n",
       "       [-0.3482667 ,  0.50791091],\n",
       "       [-0.49159859,  1.12201157],\n",
       "       [ 0.05845949, -0.20073128],\n",
       "       [-0.56920776,  0.15481348],\n",
       "       [-0.60090991,  0.81086285],\n",
       "       [-0.48948997,  0.40188629],\n",
       "       [-0.75251518,  1.14233156],\n",
       "       [-0.76137693,  1.00592671],\n",
       "       [ 0.24028461, -0.05414183],\n",
       "       [-0.54699257, -0.01011049],\n",
       "       [-0.65949895,  1.17998496],\n",
       "       [-1.04717656,  0.47655482],\n",
       "       [-0.75265011, -0.02677749],\n",
       "       [-1.32951558,  0.07060466],\n",
       "       [-1.12797443,  0.30323035],\n",
       "       [-1.40596827,  0.69178475],\n",
       "       [-1.38180844,  0.48726026],\n",
       "       [-1.38766072,  0.40841112],\n",
       "       [-1.03427633, -0.09980647],\n",
       "       [-1.43251715,  0.14954298],\n",
       "       [-1.28099793,  0.55142621],\n",
       "       [-1.0474575 ,  0.03296678],\n",
       "       [-0.66012056, -0.16440477],\n",
       "       [-1.43251714,  0.14954295],\n",
       "       [-0.62686811,  0.61916484],\n",
       "       [-0.65611094, -0.29166983],\n",
       "       [ 1.43942884, -0.05234081],\n",
       "       [ 0.62686109,  0.95537498],\n",
       "       [ 0.97942759,  1.19734003],\n",
       "       [ 1.01219161,  1.08151912],\n",
       "       [ 1.45055258, -0.09511161],\n",
       "       [ 1.07730844,  1.14559363],\n",
       "       [ 0.80387615,  1.36558849],\n",
       "       [ 1.06536648,  0.91081476],\n",
       "       [ 0.91577217,  0.55970594],\n",
       "       [ 0.91768536, -0.53901147],\n",
       "       [ 0.88091362,  0.80790215],\n",
       "       [ 0.74391949,  1.49126539],\n",
       "       [ 0.97656505,  1.2847372 ],\n",
       "       [ 0.89774674,  0.60150441],\n",
       "       [ 0.90655135,  1.33471573],\n",
       "       [ 0.66620732, -0.63626422],\n",
       "       [ 0.17034642,  0.48046249],\n",
       "       [ 0.39001324,  0.48847268],\n",
       "       [ 1.24514989, -0.385546  ],\n",
       "       [ 0.94325724, -0.54363075],\n",
       "       [ 1.02347183, -0.47559166],\n",
       "       [ 0.46268247, -0.70697463],\n",
       "       [ 0.42732385, -1.03973111],\n",
       "       [ 1.24514989, -0.385546  ],\n",
       "       [-0.1473599 ,  0.18906689],\n",
       "       [-0.14726813,  0.18900375],\n",
       "       [ 0.32670164,  0.55067317],\n",
       "       [ 0.33967627,  0.29262759],\n",
       "       [ 0.83064082, -0.5889053 ],\n",
       "       [ 0.15788456,  0.95968673]])"
      ]
     },
     "execution_count": 19,
     "metadata": {},
     "output_type": "execute_result"
    }
   ],
   "source": [
    "mds = manifold.MDS(n_components=2, dissimilarity=\"euclidean\", random_state=1_000_000, n_jobs = 4, verbose=1,max_iter=1000)\n",
    "results = mds.fit(dist_mat)\n",
    "coords = results.embedding_\n",
    "coords"
   ]
  },
  {
   "cell_type": "code",
   "execution_count": 20,
   "id": "e1ada772",
   "metadata": {},
   "outputs": [],
   "source": [
    "df3 = pd.DataFrame(coords) #put the array into a dataframe and then adding this onto df2"
   ]
  },
  {
   "cell_type": "code",
   "execution_count": 21,
   "id": "d6f70616",
   "metadata": {},
   "outputs": [
    {
     "data": {
      "text/html": [
       "<div>\n",
       "<style scoped>\n",
       "    .dataframe tbody tr th:only-of-type {\n",
       "        vertical-align: middle;\n",
       "    }\n",
       "\n",
       "    .dataframe tbody tr th {\n",
       "        vertical-align: top;\n",
       "    }\n",
       "\n",
       "    .dataframe thead th {\n",
       "        text-align: right;\n",
       "    }\n",
       "</style>\n",
       "<table border=\"1\" class=\"dataframe\">\n",
       "  <thead>\n",
       "    <tr style=\"text-align: right;\">\n",
       "      <th></th>\n",
       "      <th>0</th>\n",
       "      <th>1</th>\n",
       "    </tr>\n",
       "  </thead>\n",
       "  <tbody>\n",
       "    <tr>\n",
       "      <th>0</th>\n",
       "      <td>-0.697600</td>\n",
       "      <td>-2.324475</td>\n",
       "    </tr>\n",
       "    <tr>\n",
       "      <th>1</th>\n",
       "      <td>0.244493</td>\n",
       "      <td>-2.346560</td>\n",
       "    </tr>\n",
       "    <tr>\n",
       "      <th>2</th>\n",
       "      <td>-0.315548</td>\n",
       "      <td>-2.506209</td>\n",
       "    </tr>\n",
       "    <tr>\n",
       "      <th>3</th>\n",
       "      <td>-0.696104</td>\n",
       "      <td>-2.414438</td>\n",
       "    </tr>\n",
       "    <tr>\n",
       "      <th>4</th>\n",
       "      <td>-0.471353</td>\n",
       "      <td>-2.462614</td>\n",
       "    </tr>\n",
       "  </tbody>\n",
       "</table>\n",
       "</div>"
      ],
      "text/plain": [
       "          0         1\n",
       "0 -0.697600 -2.324475\n",
       "1  0.244493 -2.346560\n",
       "2 -0.315548 -2.506209\n",
       "3 -0.696104 -2.414438\n",
       "4 -0.471353 -2.462614"
      ]
     },
     "execution_count": 21,
     "metadata": {},
     "output_type": "execute_result"
    }
   ],
   "source": [
    "df3.head()"
   ]
  },
  {
   "cell_type": "code",
   "execution_count": 22,
   "id": "2199dd4d",
   "metadata": {},
   "outputs": [],
   "source": [
    "df3 = df3.rename({0: 'col1', 1: 'col2'}, axis=1)"
   ]
  },
  {
   "cell_type": "code",
   "execution_count": 23,
   "id": "c5e95fe1",
   "metadata": {},
   "outputs": [
    {
     "data": {
      "text/plain": [
       "col1    float64\n",
       "col2    float64\n",
       "dtype: object"
      ]
     },
     "execution_count": 23,
     "metadata": {},
     "output_type": "execute_result"
    }
   ],
   "source": [
    "df3.dtypes"
   ]
  },
  {
   "cell_type": "code",
   "execution_count": 24,
   "id": "58cdc149",
   "metadata": {},
   "outputs": [
    {
     "data": {
      "text/html": [
       "<div>\n",
       "<style scoped>\n",
       "    .dataframe tbody tr th:only-of-type {\n",
       "        vertical-align: middle;\n",
       "    }\n",
       "\n",
       "    .dataframe tbody tr th {\n",
       "        vertical-align: top;\n",
       "    }\n",
       "\n",
       "    .dataframe thead th {\n",
       "        text-align: right;\n",
       "    }\n",
       "</style>\n",
       "<table border=\"1\" class=\"dataframe\">\n",
       "  <thead>\n",
       "    <tr style=\"text-align: right;\">\n",
       "      <th></th>\n",
       "      <th>col1</th>\n",
       "      <th>col2</th>\n",
       "    </tr>\n",
       "  </thead>\n",
       "  <tbody>\n",
       "    <tr>\n",
       "      <th>0</th>\n",
       "      <td>-0.697600</td>\n",
       "      <td>-2.324475</td>\n",
       "    </tr>\n",
       "    <tr>\n",
       "      <th>1</th>\n",
       "      <td>0.244493</td>\n",
       "      <td>-2.346560</td>\n",
       "    </tr>\n",
       "    <tr>\n",
       "      <th>2</th>\n",
       "      <td>-0.315548</td>\n",
       "      <td>-2.506209</td>\n",
       "    </tr>\n",
       "    <tr>\n",
       "      <th>3</th>\n",
       "      <td>-0.696104</td>\n",
       "      <td>-2.414438</td>\n",
       "    </tr>\n",
       "    <tr>\n",
       "      <th>4</th>\n",
       "      <td>-0.471353</td>\n",
       "      <td>-2.462614</td>\n",
       "    </tr>\n",
       "    <tr>\n",
       "      <th>...</th>\n",
       "      <td>...</td>\n",
       "      <td>...</td>\n",
       "    </tr>\n",
       "    <tr>\n",
       "      <th>85</th>\n",
       "      <td>-0.147268</td>\n",
       "      <td>0.189004</td>\n",
       "    </tr>\n",
       "    <tr>\n",
       "      <th>86</th>\n",
       "      <td>0.326702</td>\n",
       "      <td>0.550673</td>\n",
       "    </tr>\n",
       "    <tr>\n",
       "      <th>87</th>\n",
       "      <td>0.339676</td>\n",
       "      <td>0.292628</td>\n",
       "    </tr>\n",
       "    <tr>\n",
       "      <th>88</th>\n",
       "      <td>0.830641</td>\n",
       "      <td>-0.588905</td>\n",
       "    </tr>\n",
       "    <tr>\n",
       "      <th>89</th>\n",
       "      <td>0.157885</td>\n",
       "      <td>0.959687</td>\n",
       "    </tr>\n",
       "  </tbody>\n",
       "</table>\n",
       "<p>90 rows × 2 columns</p>\n",
       "</div>"
      ],
      "text/plain": [
       "        col1      col2\n",
       "0  -0.697600 -2.324475\n",
       "1   0.244493 -2.346560\n",
       "2  -0.315548 -2.506209\n",
       "3  -0.696104 -2.414438\n",
       "4  -0.471353 -2.462614\n",
       "..       ...       ...\n",
       "85 -0.147268  0.189004\n",
       "86  0.326702  0.550673\n",
       "87  0.339676  0.292628\n",
       "88  0.830641 -0.588905\n",
       "89  0.157885  0.959687\n",
       "\n",
       "[90 rows x 2 columns]"
      ]
     },
     "execution_count": 24,
     "metadata": {},
     "output_type": "execute_result"
    }
   ],
   "source": [
    "df3"
   ]
  },
  {
   "cell_type": "code",
   "execution_count": 25,
   "id": "b00a7a50",
   "metadata": {},
   "outputs": [],
   "source": [
    "df2 = pd.concat([df2.reset_index(drop=True), df3.reset_index(drop = True)], axis=1) #reset index was done to not get a NaN value after concatenation of two dataframes"
   ]
  },
  {
   "cell_type": "code",
   "execution_count": 26,
   "id": "5c482a34",
   "metadata": {},
   "outputs": [
    {
     "data": {
      "text/html": [
       "<div>\n",
       "<style scoped>\n",
       "    .dataframe tbody tr th:only-of-type {\n",
       "        vertical-align: middle;\n",
       "    }\n",
       "\n",
       "    .dataframe tbody tr th {\n",
       "        vertical-align: top;\n",
       "    }\n",
       "\n",
       "    .dataframe thead th {\n",
       "        text-align: right;\n",
       "    }\n",
       "</style>\n",
       "<table border=\"1\" class=\"dataframe\">\n",
       "  <thead>\n",
       "    <tr style=\"text-align: right;\">\n",
       "      <th></th>\n",
       "      <th>canonical_smiles</th>\n",
       "      <th>compound_chembl_id</th>\n",
       "      <th>standard_relation</th>\n",
       "      <th>standard_value</th>\n",
       "      <th>publication_year</th>\n",
       "      <th>document_chembl_id</th>\n",
       "      <th>ROMol</th>\n",
       "      <th>distance</th>\n",
       "      <th>col1</th>\n",
       "      <th>col2</th>\n",
       "    </tr>\n",
       "  </thead>\n",
       "  <tbody>\n",
       "    <tr>\n",
       "      <th>0</th>\n",
       "      <td>NC1=N[C@@H](CCc2ccc(Nc3cccc4cccc(Cl)c34)cc2)CO1</td>\n",
       "      <td>CHEMBL3656478</td>\n",
       "      <td>=</td>\n",
       "      <td>3.3</td>\n",
       "      <td>2014</td>\n",
       "      <td>CHEMBL3638821</td>\n",
       "      <td>&lt;rdkit.Chem.rdchem.Mol object at 0x15b3b4e40&gt;</td>\n",
       "      <td>[0.0, 0.5303030303030303, 0.45614035087719296,...</td>\n",
       "      <td>-0.697600</td>\n",
       "      <td>-2.324475</td>\n",
       "    </tr>\n",
       "    <tr>\n",
       "      <th>1</th>\n",
       "      <td>NC1=N[C@@H](CCc2ccc(NC(c3cccc(F)c3)C(F)(F)F)cc...</td>\n",
       "      <td>CHEMBL3660701</td>\n",
       "      <td>=</td>\n",
       "      <td>6.4</td>\n",
       "      <td>2014</td>\n",
       "      <td>CHEMBL3638821</td>\n",
       "      <td>&lt;rdkit.Chem.rdchem.Mol object at 0x15b3b4820&gt;</td>\n",
       "      <td>[0.5303030303030303, 0.0, 0.44999999999999996,...</td>\n",
       "      <td>0.244493</td>\n",
       "      <td>-2.346560</td>\n",
       "    </tr>\n",
       "    <tr>\n",
       "      <th>2</th>\n",
       "      <td>NC1=N[C@@H](CCc2ccc(Nc3ncc(F)cn3)cc2)CO1</td>\n",
       "      <td>CHEMBL3656493</td>\n",
       "      <td>=</td>\n",
       "      <td>4.0</td>\n",
       "      <td>2014</td>\n",
       "      <td>CHEMBL3638821</td>\n",
       "      <td>&lt;rdkit.Chem.rdchem.Mol object at 0x15b3b4eb0&gt;</td>\n",
       "      <td>[0.45614035087719296, 0.44999999999999996, 0.0...</td>\n",
       "      <td>-0.315548</td>\n",
       "      <td>-2.506209</td>\n",
       "    </tr>\n",
       "    <tr>\n",
       "      <th>3</th>\n",
       "      <td>NC1=N[C@@H](CCc2ccc(Nc3cccc4cccnc34)cc2)CO1</td>\n",
       "      <td>CHEMBL3656474</td>\n",
       "      <td>=</td>\n",
       "      <td>0.6</td>\n",
       "      <td>2014</td>\n",
       "      <td>CHEMBL3638821</td>\n",
       "      <td>&lt;rdkit.Chem.rdchem.Mol object at 0x15b3b4cf0&gt;</td>\n",
       "      <td>[0.32727272727272727, 0.5303030303030303, 0.42...</td>\n",
       "      <td>-0.696104</td>\n",
       "      <td>-2.414438</td>\n",
       "    </tr>\n",
       "    <tr>\n",
       "      <th>4</th>\n",
       "      <td>COc1ccc(Nc2ccc(CC[C@H]3COC(N)=N3)cc2)nc1</td>\n",
       "      <td>CHEMBL3656503</td>\n",
       "      <td>=</td>\n",
       "      <td>8.3</td>\n",
       "      <td>2014</td>\n",
       "      <td>CHEMBL3638821</td>\n",
       "      <td>&lt;rdkit.Chem.rdchem.Mol object at 0x15b3b4c80&gt;</td>\n",
       "      <td>[0.5, 0.5588235294117647, 0.4107142857142857, ...</td>\n",
       "      <td>-0.471353</td>\n",
       "      <td>-2.462614</td>\n",
       "    </tr>\n",
       "    <tr>\n",
       "      <th>...</th>\n",
       "      <td>...</td>\n",
       "      <td>...</td>\n",
       "      <td>...</td>\n",
       "      <td>...</td>\n",
       "      <td>...</td>\n",
       "      <td>...</td>\n",
       "      <td>...</td>\n",
       "      <td>...</td>\n",
       "      <td>...</td>\n",
       "      <td>...</td>\n",
       "    </tr>\n",
       "    <tr>\n",
       "      <th>85</th>\n",
       "      <td>O=C(NCc1ccc([C@@H]2CNCCO2)cc1)c1ccc(Cl)nc1</td>\n",
       "      <td>CHEMBL3903186</td>\n",
       "      <td>=</td>\n",
       "      <td>9.0</td>\n",
       "      <td>2016</td>\n",
       "      <td>CHEMBL3886960</td>\n",
       "      <td>&lt;rdkit.Chem.rdchem.Mol object at 0x15b40c190&gt;</td>\n",
       "      <td>[0.8414634146341463, 0.8764044943820225, 0.833...</td>\n",
       "      <td>-0.147268</td>\n",
       "      <td>0.189004</td>\n",
       "    </tr>\n",
       "    <tr>\n",
       "      <th>86</th>\n",
       "      <td>O=C(Nc1ccc(C2CNCCO2)cc1)c1csc(-c2cnccn2)n1</td>\n",
       "      <td>CHEMBL3909321</td>\n",
       "      <td>=</td>\n",
       "      <td>7.5</td>\n",
       "      <td>2016</td>\n",
       "      <td>CHEMBL3886960</td>\n",
       "      <td>&lt;rdkit.Chem.rdchem.Mol object at 0x15b40c200&gt;</td>\n",
       "      <td>[0.8666666666666667, 0.8969072164948454, 0.847...</td>\n",
       "      <td>0.326702</td>\n",
       "      <td>0.550673</td>\n",
       "    </tr>\n",
       "    <tr>\n",
       "      <th>87</th>\n",
       "      <td>CC(CO)(CCl)COc1ccc(C(=O)Nc2ccc(C3CNCCO3)cc2)cc1</td>\n",
       "      <td>CHEMBL3986472</td>\n",
       "      <td>=</td>\n",
       "      <td>2.4</td>\n",
       "      <td>2016</td>\n",
       "      <td>CHEMBL3886960</td>\n",
       "      <td>&lt;rdkit.Chem.rdchem.Mol object at 0x15b40c270&gt;</td>\n",
       "      <td>[0.8804347826086957, 0.8865979381443299, 0.875...</td>\n",
       "      <td>0.339676</td>\n",
       "      <td>0.292628</td>\n",
       "    </tr>\n",
       "    <tr>\n",
       "      <th>88</th>\n",
       "      <td>O=C(Nc1ccc(C2CCNC2)cc1)c1ncccc1F</td>\n",
       "      <td>CHEMBL3889958</td>\n",
       "      <td>=</td>\n",
       "      <td>1768.8</td>\n",
       "      <td>2016</td>\n",
       "      <td>CHEMBL3886960</td>\n",
       "      <td>&lt;rdkit.Chem.rdchem.Mol object at 0x15b40c2e0&gt;</td>\n",
       "      <td>[0.8607594936708861, 0.8554216867469879, 0.821...</td>\n",
       "      <td>0.830641</td>\n",
       "      <td>-0.588905</td>\n",
       "    </tr>\n",
       "    <tr>\n",
       "      <th>89</th>\n",
       "      <td>Cc1ccc(NC(=O)Nc2ccc(C3CNCCO3)cc2)cc1</td>\n",
       "      <td>CHEMBL3911027</td>\n",
       "      <td>=</td>\n",
       "      <td>1.4</td>\n",
       "      <td>2016</td>\n",
       "      <td>CHEMBL3886960</td>\n",
       "      <td>&lt;rdkit.Chem.rdchem.Mol object at 0x15b40c350&gt;</td>\n",
       "      <td>[0.88, 0.8875, 0.8732394366197183, 0.88, 0.866...</td>\n",
       "      <td>0.157885</td>\n",
       "      <td>0.959687</td>\n",
       "    </tr>\n",
       "  </tbody>\n",
       "</table>\n",
       "<p>90 rows × 10 columns</p>\n",
       "</div>"
      ],
      "text/plain": [
       "                                     canonical_smiles compound_chembl_id  \\\n",
       "0     NC1=N[C@@H](CCc2ccc(Nc3cccc4cccc(Cl)c34)cc2)CO1      CHEMBL3656478   \n",
       "1   NC1=N[C@@H](CCc2ccc(NC(c3cccc(F)c3)C(F)(F)F)cc...      CHEMBL3660701   \n",
       "2            NC1=N[C@@H](CCc2ccc(Nc3ncc(F)cn3)cc2)CO1      CHEMBL3656493   \n",
       "3         NC1=N[C@@H](CCc2ccc(Nc3cccc4cccnc34)cc2)CO1      CHEMBL3656474   \n",
       "4            COc1ccc(Nc2ccc(CC[C@H]3COC(N)=N3)cc2)nc1      CHEMBL3656503   \n",
       "..                                                ...                ...   \n",
       "85         O=C(NCc1ccc([C@@H]2CNCCO2)cc1)c1ccc(Cl)nc1      CHEMBL3903186   \n",
       "86         O=C(Nc1ccc(C2CNCCO2)cc1)c1csc(-c2cnccn2)n1      CHEMBL3909321   \n",
       "87    CC(CO)(CCl)COc1ccc(C(=O)Nc2ccc(C3CNCCO3)cc2)cc1      CHEMBL3986472   \n",
       "88                   O=C(Nc1ccc(C2CCNC2)cc1)c1ncccc1F      CHEMBL3889958   \n",
       "89               Cc1ccc(NC(=O)Nc2ccc(C3CNCCO3)cc2)cc1      CHEMBL3911027   \n",
       "\n",
       "   standard_relation  standard_value  publication_year document_chembl_id  \\\n",
       "0                  =             3.3              2014      CHEMBL3638821   \n",
       "1                  =             6.4              2014      CHEMBL3638821   \n",
       "2                  =             4.0              2014      CHEMBL3638821   \n",
       "3                  =             0.6              2014      CHEMBL3638821   \n",
       "4                  =             8.3              2014      CHEMBL3638821   \n",
       "..               ...             ...               ...                ...   \n",
       "85                 =             9.0              2016      CHEMBL3886960   \n",
       "86                 =             7.5              2016      CHEMBL3886960   \n",
       "87                 =             2.4              2016      CHEMBL3886960   \n",
       "88                 =          1768.8              2016      CHEMBL3886960   \n",
       "89                 =             1.4              2016      CHEMBL3886960   \n",
       "\n",
       "                                            ROMol  \\\n",
       "0   <rdkit.Chem.rdchem.Mol object at 0x15b3b4e40>   \n",
       "1   <rdkit.Chem.rdchem.Mol object at 0x15b3b4820>   \n",
       "2   <rdkit.Chem.rdchem.Mol object at 0x15b3b4eb0>   \n",
       "3   <rdkit.Chem.rdchem.Mol object at 0x15b3b4cf0>   \n",
       "4   <rdkit.Chem.rdchem.Mol object at 0x15b3b4c80>   \n",
       "..                                            ...   \n",
       "85  <rdkit.Chem.rdchem.Mol object at 0x15b40c190>   \n",
       "86  <rdkit.Chem.rdchem.Mol object at 0x15b40c200>   \n",
       "87  <rdkit.Chem.rdchem.Mol object at 0x15b40c270>   \n",
       "88  <rdkit.Chem.rdchem.Mol object at 0x15b40c2e0>   \n",
       "89  <rdkit.Chem.rdchem.Mol object at 0x15b40c350>   \n",
       "\n",
       "                                             distance      col1      col2  \n",
       "0   [0.0, 0.5303030303030303, 0.45614035087719296,... -0.697600 -2.324475  \n",
       "1   [0.5303030303030303, 0.0, 0.44999999999999996,...  0.244493 -2.346560  \n",
       "2   [0.45614035087719296, 0.44999999999999996, 0.0... -0.315548 -2.506209  \n",
       "3   [0.32727272727272727, 0.5303030303030303, 0.42... -0.696104 -2.414438  \n",
       "4   [0.5, 0.5588235294117647, 0.4107142857142857, ... -0.471353 -2.462614  \n",
       "..                                                ...       ...       ...  \n",
       "85  [0.8414634146341463, 0.8764044943820225, 0.833... -0.147268  0.189004  \n",
       "86  [0.8666666666666667, 0.8969072164948454, 0.847...  0.326702  0.550673  \n",
       "87  [0.8804347826086957, 0.8865979381443299, 0.875...  0.339676  0.292628  \n",
       "88  [0.8607594936708861, 0.8554216867469879, 0.821...  0.830641 -0.588905  \n",
       "89  [0.88, 0.8875, 0.8732394366197183, 0.88, 0.866...  0.157885  0.959687  \n",
       "\n",
       "[90 rows x 10 columns]"
      ]
     },
     "execution_count": 26,
     "metadata": {},
     "output_type": "execute_result"
    }
   ],
   "source": [
    "df2"
   ]
  },
  {
   "cell_type": "markdown",
   "id": "4e1bf0ba",
   "metadata": {},
   "source": [
    "I will now plot these 2D coordinates in a scatterplot, colouring each data point based on the patent it came from."
   ]
  },
  {
   "cell_type": "code",
   "execution_count": 27,
   "id": "edc81a04",
   "metadata": {},
   "outputs": [
    {
     "data": {
      "image/png": "[encoded data removed]",
      "text/plain": [
       "<Figure size 640x480 with 1 Axes>"
      ]
     },
     "metadata": {},
     "output_type": "display_data"
    }
   ],
   "source": [
    "sns.scatterplot(x = 'col1', y = 'col2', hue = 'document_chembl_id', palette = 'tab10', data = df2)\n",
    "plt.legend(bbox_to_anchor = (1.45, -0.10), loc='lower right')\n",
    "plt.title(\"Clustering based on patent/document chembl id\")\n",
    "plt.xlim(-2.0, 2.2)\n",
    "plt.ylim(-5.0, 3.4);"
   ]
  },
  {
   "cell_type": "markdown",
   "id": "bae07342",
   "metadata": {},
   "source": [
    "From this point on, I will now start to cluster these data points using three different types of clustering algorithms. Hierarchical Agglomerative Clustering, K Means Clustering, and DBSCAN."
   ]
  },
  {
   "cell_type": "markdown",
   "id": "794bb50f",
   "metadata": {},
   "source": [
    "## Hierarchical Clustering"
   ]
  },
  {
   "cell_type": "code",
   "execution_count": 28,
   "id": "8478f076",
   "metadata": {},
   "outputs": [],
   "source": [
    "import scipy"
   ]
  },
  {
   "cell_type": "code",
   "execution_count": 29,
   "id": "f7864659",
   "metadata": {},
   "outputs": [],
   "source": [
    "from sklearn.cluster import AgglomerativeClustering\n",
    "from scipy.cluster.hierarchy import dendrogram, linkage"
   ]
  },
  {
   "cell_type": "markdown",
   "id": "0a9d3285",
   "metadata": {},
   "source": [
    "First I am plotting the dendrogram to visualise how many clusters is best. I will be using \"Average\" as the method, in contrast to \"Complete\" and \"Single\". I will also be using Euclidean distance as the metric."
   ]
  },
  {
   "cell_type": "code",
   "execution_count": 30,
   "id": "ab24da90",
   "metadata": {},
   "outputs": [],
   "source": [
    "X = df2[['col1','col2']].values"
   ]
  },
  {
   "cell_type": "code",
   "execution_count": 31,
   "id": "590c71e2",
   "metadata": {},
   "outputs": [
    {
     "data": {
      "image/png": "[encoded data removed]",
      "text/plain": [
       "<Figure size 640x480 with 1 Axes>"
      ]
     },
     "metadata": {},
     "output_type": "display_data"
    }
   ],
   "source": [
    "scipy.spatial.distance.pdist(X, metric='euclidean')\n",
    "plt.title(\"Average linkage based Dendrograms\")  \n",
    "dend = dendrogram(linkage(X, method='average'))"
   ]
  },
  {
   "cell_type": "markdown",
   "id": "ac49715a",
   "metadata": {},
   "source": [
    "It seems that the best number of clusters is 6, based on this dendrogram. I will therefore be using n_clusters = 6. After constructing the model, I will plot the clusters on a scatterplot, with hues based on the results of the Agglomerative clustering."
   ]
  },
  {
   "cell_type": "code",
   "execution_count": 34,
   "id": "4503e27c",
   "metadata": {},
   "outputs": [
    {
     "data": {
      "image/png": "[encoded data removed]",
      "text/plain": [
       "<Figure size 640x480 with 1 Axes>"
      ]
     },
     "metadata": {},
     "output_type": "display_data"
    }
   ],
   "source": [
    "cluster = AgglomerativeClustering(n_clusters=6, affinity='euclidean', linkage='average')\n",
    "pred = cluster.fit_predict(X)\n",
    "plt.scatter(X[:,0], X[:,1], c=pred)\n",
    "\n",
    "for i in range(0,len(df2.col1)):\n",
    "    txt = df2.index[i]\n",
    "    plt.annotate(txt, (df2.col1[i], df2.col2[i]))\n",
    "\n",
    "plt.title(\"Hierarchical Agglomerative cluster plot\")\n",
    "plt.xlabel(\"col1\")\n",
    "plt.ylabel(\"col2\")\n",
    "plt.xlim(-2.0, 2.2)\n",
    "plt.ylim(-5.0, 3.4);"
   ]
  },
  {
   "cell_type": "code",
   "execution_count": 35,
   "id": "a5ee149d",
   "metadata": {},
   "outputs": [
    {
     "data": {
      "text/plain": [
       "array([3, 3, 3, 3, 3, 3, 3, 3, 3, 3, 3, 3, 3, 3, 3, 1, 1, 1, 1, 1, 4, 4,\n",
       "       4, 1, 1, 4, 1, 4, 1, 4, 1, 5, 1, 1, 1, 1, 5, 0, 1, 1, 1, 1, 5, 0,\n",
       "       1, 0, 0, 0, 0, 0, 0, 0, 0, 0, 0, 0, 0, 0, 1, 0, 2, 4, 4, 4, 2, 4,\n",
       "       4, 4, 4, 2, 4, 4, 4, 4, 4, 2, 5, 5, 2, 2, 2, 2, 2, 2, 5, 5, 5, 5,\n",
       "       2, 1])"
      ]
     },
     "execution_count": 35,
     "metadata": {},
     "output_type": "execute_result"
    }
   ],
   "source": [
    "pred"
   ]
  },
  {
   "cell_type": "code",
   "execution_count": 36,
   "id": "fa96a793",
   "metadata": {},
   "outputs": [],
   "source": [
    "from sklearn.metrics import silhouette_score\n",
    "score1 = round(silhouette_score(X, pred, metric='euclidean'),2)"
   ]
  },
  {
   "cell_type": "code",
   "execution_count": 37,
   "id": "8b7b838b",
   "metadata": {},
   "outputs": [
    {
     "data": {
      "text/plain": [
       "0.51"
      ]
     },
     "execution_count": 37,
     "metadata": {},
     "output_type": "execute_result"
    }
   ],
   "source": [
    "score1"
   ]
  },
  {
   "cell_type": "markdown",
   "id": "acf2a669",
   "metadata": {},
   "source": [
    "## K Means"
   ]
  },
  {
   "cell_type": "markdown",
   "id": "a0de5804",
   "metadata": {},
   "source": [
    "Next I will do K Means Clustering and compare this with Agglomerative Clustering."
   ]
  },
  {
   "cell_type": "code",
   "execution_count": 38,
   "id": "f5430c5b",
   "metadata": {},
   "outputs": [],
   "source": [
    "from sklearn.cluster import KMeans"
   ]
  },
  {
   "cell_type": "markdown",
   "id": "6aff3d96",
   "metadata": {},
   "source": [
    "I will first plot use the elbow method to identify the best n_clusters to use for K Means clustering."
   ]
  },
  {
   "cell_type": "code",
   "execution_count": 39,
   "id": "9b23dde7",
   "metadata": {},
   "outputs": [
    {
     "name": "stdout",
     "output_type": "stream",
     "text": [
      "[183.796315673897, 75.86778341435755, 40.60530844243456, 22.555997188182868, 17.046221680790424, 13.445844497550189, 11.098236182160647, 9.34320276440251, 7.899440342822036, 6.607793459017783]\n"
     ]
    }
   ],
   "source": [
    "inertia = []\n",
    "\n",
    "for k in range(1, 11): #maximum K value is 10\n",
    "    kmeans = KMeans(n_clusters=k)\n",
    "    kmeans.fit(X)  \n",
    "    x = kmeans.inertia_\n",
    "    inertia.append(x)\n",
    "\n",
    "print(inertia)"
   ]
  },
  {
   "cell_type": "code",
   "execution_count": 40,
   "id": "6631887a",
   "metadata": {},
   "outputs": [
    {
     "data": {
      "image/png": "[encoded data removed]",
      "text/plain": [
       "<Figure size 640x480 with 1 Axes>"
      ]
     },
     "metadata": {},
     "output_type": "display_data"
    }
   ],
   "source": [
    "plt.plot(range(1,11), inertia, marker='o')\n",
    "plt.xlabel('K')\n",
    "plt.ylabel('Inertia')\n",
    "plt.title('Elbow method')\n",
    "plt.show()"
   ]
  },
  {
   "cell_type": "markdown",
   "id": "9e35255a",
   "metadata": {},
   "source": [
    "Based on the elbow method, it seems K = 3 is the best. I will also plot a scatter plot to visualise how the algorithm has clustered the data points."
   ]
  },
  {
   "cell_type": "code",
   "execution_count": 41,
   "id": "47402acc",
   "metadata": {},
   "outputs": [],
   "source": [
    "x = X[:,0]\n",
    "y = X[:,1]"
   ]
  },
  {
   "cell_type": "code",
   "execution_count": 42,
   "id": "901e63f0",
   "metadata": {},
   "outputs": [],
   "source": [
    "kmeans = KMeans(n_clusters=3, init='k-means++', random_state=42)\n",
    "cluster_labels = kmeans.fit_predict(X)\n",
    "cent = kmeans.cluster_centers_ #to get the centroids"
   ]
  },
  {
   "cell_type": "code",
   "execution_count": 43,
   "id": "0d20a076",
   "metadata": {},
   "outputs": [
    {
     "data": {
      "text/plain": [
       "array([0, 0, 0, 0, 0, 0, 0, 0, 0, 0, 0, 0, 0, 0, 0, 1, 1, 1, 1, 1, 1, 1,\n",
       "       1, 1, 1, 1, 1, 1, 1, 1, 2, 1, 2, 2, 2, 2, 1, 2, 2, 2, 2, 2, 1, 2,\n",
       "       2, 2, 2, 2, 2, 2, 2, 2, 2, 2, 2, 2, 2, 2, 2, 2, 1, 1, 1, 1, 1, 1,\n",
       "       1, 1, 1, 1, 1, 1, 1, 1, 1, 1, 1, 1, 1, 1, 1, 1, 0, 1, 2, 2, 1, 1,\n",
       "       1, 1], dtype=int32)"
      ]
     },
     "execution_count": 43,
     "metadata": {},
     "output_type": "execute_result"
    }
   ],
   "source": [
    "cluster_labels"
   ]
  },
  {
   "cell_type": "code",
   "execution_count": 44,
   "id": "587c9c0d",
   "metadata": {},
   "outputs": [],
   "source": [
    "from sklearn.metrics import silhouette_score\n",
    "score2 = round(silhouette_score(X, cluster_labels, metric='euclidean'),2)"
   ]
  },
  {
   "cell_type": "code",
   "execution_count": 45,
   "id": "d873b91f",
   "metadata": {},
   "outputs": [
    {
     "data": {
      "text/plain": [
       "0.49"
      ]
     },
     "execution_count": 45,
     "metadata": {},
     "output_type": "execute_result"
    }
   ],
   "source": [
    "score2"
   ]
  },
  {
   "cell_type": "markdown",
   "id": "56fee0cd",
   "metadata": {},
   "source": [
    "The silhouette score of K Means is 0.49, slightly lower than the silhouette score of Agglomerative clustering at 0.51."
   ]
  },
  {
   "cell_type": "code",
   "execution_count": 46,
   "id": "7e91d220",
   "metadata": {},
   "outputs": [],
   "source": [
    "k =3\n",
    "compound = df2.index"
   ]
  },
  {
   "cell_type": "code",
   "execution_count": 47,
   "id": "8796bc3f",
   "metadata": {},
   "outputs": [
    {
     "data": {
      "image/png": "[encoded data removed]",
      "text/plain": [
       "<Figure size 640x480 with 1 Axes>"
      ]
     },
     "metadata": {},
     "output_type": "display_data"
    }
   ],
   "source": [
    "plt.scatter(X[:,0], X[:,1], c=cluster_labels)\n",
    "plt.scatter(cent[:,0], cent[:,1], marker=\"x\", color='r') #plot the centroids\n",
    "\n",
    "for i in range(0,len(x)):\n",
    "    txt = compound[i]\n",
    "    plt.annotate(txt, (x[i], y[i]))\n",
    "\n",
    "\n",
    "plt.title(\"K Means cluster plot\")\n",
    "plt.xlabel(\"col1\")\n",
    "plt.ylabel(\"col2\")\n",
    "plt.xlim(-2.0, 2.2)\n",
    "plt.ylim(-5.0, 3.4);"
   ]
  },
  {
   "cell_type": "markdown",
   "id": "0a621f39",
   "metadata": {},
   "source": []
  },
  {
   "cell_type": "markdown",
   "id": "cce94c47",
   "metadata": {},
   "source": [
    "## DBSCAN"
   ]
  },
  {
   "cell_type": "code",
   "execution_count": 48,
   "id": "9880cb0c",
   "metadata": {},
   "outputs": [],
   "source": [
    "from sklearn.cluster import DBSCAN"
   ]
  },
  {
   "cell_type": "markdown",
   "id": "b6c90fd8",
   "metadata": {},
   "source": [
    "Using the default hyperparameters, DBSCAN clustered the datapoints into three clusters."
   ]
  },
  {
   "cell_type": "code",
   "execution_count": 49,
   "id": "ef3156b5",
   "metadata": {},
   "outputs": [
    {
     "data": {
      "text/plain": [
       "array([0, 0, 0, 0, 0, 0, 0, 0, 0, 0, 0, 0, 0, 0, 0, 1, 1, 1, 1, 1, 1, 1,\n",
       "       1, 1, 1, 1, 1, 1, 1, 1, 1, 1, 1, 1, 1, 1, 1, 1, 1, 1, 1, 1, 1, 1,\n",
       "       1, 1, 1, 1, 1, 1, 1, 1, 1, 1, 1, 1, 1, 1, 1, 1, 2, 1, 1, 1, 2, 1,\n",
       "       1, 1, 1, 2, 1, 1, 1, 1, 1, 2, 1, 1, 2, 2, 2, 2, 2, 2, 1, 1, 1, 1,\n",
       "       2, 1])"
      ]
     },
     "execution_count": 49,
     "metadata": {},
     "output_type": "execute_result"
    }
   ],
   "source": [
    "clustering = DBSCAN(eps = 0.5, min_samples = 5)\n",
    "pred = clustering.fit_predict(X)\n",
    "pred"
   ]
  },
  {
   "cell_type": "code",
   "execution_count": 50,
   "id": "fdcc82c2",
   "metadata": {},
   "outputs": [],
   "source": [
    "score3 = round(silhouette_score(X, pred, metric='euclidean'),2)"
   ]
  },
  {
   "cell_type": "code",
   "execution_count": 51,
   "id": "19a716f4",
   "metadata": {},
   "outputs": [
    {
     "data": {
      "text/plain": [
       "0.47"
      ]
     },
     "execution_count": 51,
     "metadata": {},
     "output_type": "execute_result"
    }
   ],
   "source": [
    "score3"
   ]
  },
  {
   "cell_type": "markdown",
   "id": "13000835",
   "metadata": {},
   "source": [
    "The lowest silhouette score was given by DBSCAN."
   ]
  },
  {
   "cell_type": "code",
   "execution_count": 53,
   "id": "455b2c16",
   "metadata": {},
   "outputs": [
    {
     "data": {
      "image/png": "[encoded data removed]",
      "text/plain": [
       "<Figure size 640x480 with 1 Axes>"
      ]
     },
     "metadata": {},
     "output_type": "display_data"
    },
    {
     "name": "stdout",
     "output_type": "stream",
     "text": [
      "breaking at iteration 104 with stress 537.8315289287727\n",
      "breaking at iteration 122 with stress 605.1413438717518\n",
      "breaking at iteration 165 with stress 539.994246017935\n",
      "breaking at iteration 161 with stress 841.6180863970445\n"
     ]
    }
   ],
   "source": [
    "plt.scatter(X[:,0], X[:,1], c=pred);\n",
    "\n",
    "for i in range(0,len(df2.col1)):\n",
    "    txt = df2.index[i]\n",
    "    plt.annotate(txt, (df2.col1[i], df2.col2[i]))\n",
    "\n",
    "plt.title(\"DBSCAN cluster plot\")\n",
    "plt.xlabel(\"col1\")\n",
    "plt.ylabel(\"col2\")\n",
    "plt.xlim(-2.0, 2.2)\n",
    "plt.ylim(-5.0, 3.4);"
   ]
  },
  {
   "cell_type": "markdown",
   "id": "f7aa341f",
   "metadata": {},
   "source": [
    "Comparing the silhouette scores of the three clustering algorithms, it seems agglomerative hierarchical clustering is the best one for this data set, obtaining a silhouette score of 0.51."
   ]
  },
  {
   "cell_type": "code",
   "execution_count": null,
   "id": "106bf0ea",
   "metadata": {},
   "outputs": [],
   "source": []
  },
  {
   "cell_type": "code",
   "execution_count": null,
   "id": "8329d9e6",
   "metadata": {},
   "outputs": [],
   "source": [
    "#df_ss = pd.DataFrame(columns=['Agglomerative','KMeans', 'DBSCAN'], index = ['Silhou'])\n",
    "#df_ss.loc[0] = [score1,score2,score3]\n",
    "#df_ss.rename(index={0: 'Silho'})\n",
    "\n",
    "#df_ss = pd.DataFrame({'Agglomerative': [score1], 'KMeans':[score2], 'DBSCAN':[score3]}, index = 'Silho')\n",
    "#df_ss = pd.DataFrame(data, index='Silhouette_Score')\n",
    "#df_ss.index.names = ['Date']\n",
    "#df_ss"
   ]
  },
  {
   "cell_type": "code",
   "execution_count": null,
   "id": "64901b71",
   "metadata": {},
   "outputs": [],
   "source": [
    "#df_ss"
   ]
  }
 ],
 "metadata": {
  "kernelspec": {
   "display_name": "Python 3 (ipykernel)",
   "language": "python",
   "name": "python3"
  },
  "language_info": {
   "codemirror_mode": {
    "name": "ipython",
    "version": 3
   },
   "file_extension": ".py",
   "mimetype": "text/x-python",
   "name": "python",
   "nbconvert_exporter": "python",
   "pygments_lexer": "ipython3",
   "version": "3.9.15"
  }
 },
 "nbformat": 4,
 "nbformat_minor": 5
}
